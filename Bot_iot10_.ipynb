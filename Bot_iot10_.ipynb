{
  "cells": [
    {
      "cell_type": "markdown",
      "metadata": {
        "id": "view-in-github",
        "colab_type": "text"
      },
      "source": [
        "<a href=\"https://colab.research.google.com/github/akd3070/Botiot10/blob/main/Bot_iot10_.ipynb\" target=\"_parent\"><img src=\"https://colab.research.google.com/assets/colab-badge.svg\" alt=\"Open In Colab\"/></a>"
      ]
    },
    {
      "cell_type": "code",
      "execution_count": 1,
      "id": "d27a0060-474d-4b4f-9175-2b2657389844",
      "metadata": {
        "tags": [],
        "id": "d27a0060-474d-4b4f-9175-2b2657389844"
      },
      "outputs": [],
      "source": [
        "import pandas as pd\n",
        "import seaborn as sns\n",
        "import numpy as np\n",
        "import matplotlib.pyplot as plt\n",
        "import seaborn as sns\n",
        "from sklearn.ensemble import BaggingClassifier\n",
        "from sklearn.tree import DecisionTreeClassifier\n",
        "from sklearn.datasets import make_classification\n",
        "from sklearn.metrics import confusion_matrix\n",
        "from sklearn.metrics import accuracy_score, log_loss\n",
        "from sklearn.metrics import accuracy_score, recall_score, precision_score, f1_score\n",
        "from sklearn.metrics import roc_curve, auc\n",
        "from sklearn.metrics import precision_recall_curve\n",
        "from sklearn.preprocessing import LabelBinarizer\n",
        "from sklearn.model_selection import train_test_split\n",
        "from sklearn.preprocessing import LabelEncoder\n",
        "from sklearn.model_selection import train_test_split\n",
        "from sklearn.linear_model import LinearRegression\n",
        "from sklearn.ensemble import GradientBoostingClassifier\n",
        "from sklearn.metrics import accuracy_score\n",
        "from sklearn.preprocessing import StandardScaler\n",
        "from sklearn.decomposition import PCA\n",
        "from sklearn.impute import SimpleImputer\n",
        "from sklearn.ensemble import AdaBoostClassifier\n",
        "from sklearn.ensemble import RandomForestClassifier\n",
        "%matplotlib inline"
      ]
    },
    {
      "cell_type": "code",
      "source": [
        "from google.colab import drive\n",
        "drive.mount('/content/drive')"
      ],
      "metadata": {
        "colab": {
          "base_uri": "https://localhost:8080/"
        },
        "id": "FgfdxN-lroGC",
        "outputId": "5dad349b-06b0-4e5d-f3c4-e64e72fb33da"
      },
      "id": "FgfdxN-lroGC",
      "execution_count": 2,
      "outputs": [
        {
          "output_type": "stream",
          "name": "stdout",
          "text": [
            "Mounted at /content/drive\n"
          ]
        }
      ]
    },
    {
      "cell_type": "code",
      "execution_count": 3,
      "id": "5fd0e71b-616b-4f3d-8661-88ecd098d8fe",
      "metadata": {
        "tags": [],
        "id": "5fd0e71b-616b-4f3d-8661-88ecd098d8fe"
      },
      "outputs": [],
      "source": [
        "path = \"/content/drive/MyDrive/UNSW_2018_IoT_Botnet_Final_10_Best.csv\""
      ]
    },
    {
      "cell_type": "code",
      "execution_count": 4,
      "id": "86954afe-893f-4935-887e-dd229249dd39",
      "metadata": {
        "tags": [],
        "colab": {
          "base_uri": "https://localhost:8080/"
        },
        "id": "86954afe-893f-4935-887e-dd229249dd39",
        "outputId": "7ba7a241-3056-4c7e-d512-b86fda74be06"
      },
      "outputs": [
        {
          "output_type": "stream",
          "name": "stderr",
          "text": [
            "<ipython-input-4-e8f33bf6516e>:1: DtypeWarning: Columns (4,6) have mixed types. Specify dtype option on import or set low_memory=False.\n",
            "  df = pd.read_csv(path, delimiter=';')\n"
          ]
        }
      ],
      "source": [
        "df = pd.read_csv(path, delimiter=';')"
      ]
    },
    {
      "cell_type": "code",
      "source": [
        "df = df.drop(df.columns[:2], axis=1)"
      ],
      "metadata": {
        "id": "m3cTvXSKsbdZ"
      },
      "id": "m3cTvXSKsbdZ",
      "execution_count": 5,
      "outputs": []
    },
    {
      "cell_type": "code",
      "execution_count": 6,
      "id": "b48e8b3e-b6da-46e8-83fd-431e84ddbc86",
      "metadata": {
        "tags": [],
        "colab": {
          "base_uri": "https://localhost:8080/",
          "height": 270
        },
        "id": "b48e8b3e-b6da-46e8-83fd-431e84ddbc86",
        "outputId": "88ae39dd-2fb9-4532-b4d0-18cd4c6944dd"
      },
      "outputs": [
        {
          "output_type": "execute_result",
          "data": {
            "text/plain": [
              "  proto            saddr  sport            daddr dport  seq    stddev  \\\n",
              "0   tcp  192.168.100.147  49960    192.168.100.7    80    9  0.068909   \n",
              "1   arp    192.168.100.7     -1  192.168.100.147    -1   10  0.000000   \n",
              "2   tcp  192.168.100.147  49962    192.168.100.7    80   11  0.064494   \n",
              "3   tcp  192.168.100.147  49964    192.168.100.7    80   12  0.064189   \n",
              "4   tcp  192.168.100.147  49966    192.168.100.7    80   13  0.063887   \n",
              "\n",
              "   N_IN_Conn_P_SrcIP       min  state_number      mean  N_IN_Conn_P_DstIP  \\\n",
              "0                 75  0.000000             1  0.068909                 96   \n",
              "1                  2  0.000131             2  0.000131                  1   \n",
              "2                 75  0.000000             1  0.064494                 96   \n",
              "3                 75  0.000000             1  0.064189                 96   \n",
              "4                 75  0.000000             1  0.063887                 96   \n",
              "\n",
              "       drate     srate       max  attack category subcategory  \n",
              "0  14.511893  0.566862  0.137818       1      DoS        HTTP  \n",
              "1   0.000000  0.000000  0.000131       1      DoS        HTTP  \n",
              "2  15.505319  0.567549  0.128988       1      DoS        HTTP  \n",
              "3  15.578993  0.567570  0.128378       1      DoS        HTTP  \n",
              "4  15.652637  0.567630  0.127774       1      DoS        HTTP  "
            ],
            "text/html": [
              "\n",
              "  <div id=\"df-1b20744e-748b-4612-a0b6-233b99c5d34c\">\n",
              "    <div class=\"colab-df-container\">\n",
              "      <div>\n",
              "<style scoped>\n",
              "    .dataframe tbody tr th:only-of-type {\n",
              "        vertical-align: middle;\n",
              "    }\n",
              "\n",
              "    .dataframe tbody tr th {\n",
              "        vertical-align: top;\n",
              "    }\n",
              "\n",
              "    .dataframe thead th {\n",
              "        text-align: right;\n",
              "    }\n",
              "</style>\n",
              "<table border=\"1\" class=\"dataframe\">\n",
              "  <thead>\n",
              "    <tr style=\"text-align: right;\">\n",
              "      <th></th>\n",
              "      <th>proto</th>\n",
              "      <th>saddr</th>\n",
              "      <th>sport</th>\n",
              "      <th>daddr</th>\n",
              "      <th>dport</th>\n",
              "      <th>seq</th>\n",
              "      <th>stddev</th>\n",
              "      <th>N_IN_Conn_P_SrcIP</th>\n",
              "      <th>min</th>\n",
              "      <th>state_number</th>\n",
              "      <th>mean</th>\n",
              "      <th>N_IN_Conn_P_DstIP</th>\n",
              "      <th>drate</th>\n",
              "      <th>srate</th>\n",
              "      <th>max</th>\n",
              "      <th>attack</th>\n",
              "      <th>category</th>\n",
              "      <th>subcategory</th>\n",
              "    </tr>\n",
              "  </thead>\n",
              "  <tbody>\n",
              "    <tr>\n",
              "      <th>0</th>\n",
              "      <td>tcp</td>\n",
              "      <td>192.168.100.147</td>\n",
              "      <td>49960</td>\n",
              "      <td>192.168.100.7</td>\n",
              "      <td>80</td>\n",
              "      <td>9</td>\n",
              "      <td>0.068909</td>\n",
              "      <td>75</td>\n",
              "      <td>0.000000</td>\n",
              "      <td>1</td>\n",
              "      <td>0.068909</td>\n",
              "      <td>96</td>\n",
              "      <td>14.511893</td>\n",
              "      <td>0.566862</td>\n",
              "      <td>0.137818</td>\n",
              "      <td>1</td>\n",
              "      <td>DoS</td>\n",
              "      <td>HTTP</td>\n",
              "    </tr>\n",
              "    <tr>\n",
              "      <th>1</th>\n",
              "      <td>arp</td>\n",
              "      <td>192.168.100.7</td>\n",
              "      <td>-1</td>\n",
              "      <td>192.168.100.147</td>\n",
              "      <td>-1</td>\n",
              "      <td>10</td>\n",
              "      <td>0.000000</td>\n",
              "      <td>2</td>\n",
              "      <td>0.000131</td>\n",
              "      <td>2</td>\n",
              "      <td>0.000131</td>\n",
              "      <td>1</td>\n",
              "      <td>0.000000</td>\n",
              "      <td>0.000000</td>\n",
              "      <td>0.000131</td>\n",
              "      <td>1</td>\n",
              "      <td>DoS</td>\n",
              "      <td>HTTP</td>\n",
              "    </tr>\n",
              "    <tr>\n",
              "      <th>2</th>\n",
              "      <td>tcp</td>\n",
              "      <td>192.168.100.147</td>\n",
              "      <td>49962</td>\n",
              "      <td>192.168.100.7</td>\n",
              "      <td>80</td>\n",
              "      <td>11</td>\n",
              "      <td>0.064494</td>\n",
              "      <td>75</td>\n",
              "      <td>0.000000</td>\n",
              "      <td>1</td>\n",
              "      <td>0.064494</td>\n",
              "      <td>96</td>\n",
              "      <td>15.505319</td>\n",
              "      <td>0.567549</td>\n",
              "      <td>0.128988</td>\n",
              "      <td>1</td>\n",
              "      <td>DoS</td>\n",
              "      <td>HTTP</td>\n",
              "    </tr>\n",
              "    <tr>\n",
              "      <th>3</th>\n",
              "      <td>tcp</td>\n",
              "      <td>192.168.100.147</td>\n",
              "      <td>49964</td>\n",
              "      <td>192.168.100.7</td>\n",
              "      <td>80</td>\n",
              "      <td>12</td>\n",
              "      <td>0.064189</td>\n",
              "      <td>75</td>\n",
              "      <td>0.000000</td>\n",
              "      <td>1</td>\n",
              "      <td>0.064189</td>\n",
              "      <td>96</td>\n",
              "      <td>15.578993</td>\n",
              "      <td>0.567570</td>\n",
              "      <td>0.128378</td>\n",
              "      <td>1</td>\n",
              "      <td>DoS</td>\n",
              "      <td>HTTP</td>\n",
              "    </tr>\n",
              "    <tr>\n",
              "      <th>4</th>\n",
              "      <td>tcp</td>\n",
              "      <td>192.168.100.147</td>\n",
              "      <td>49966</td>\n",
              "      <td>192.168.100.7</td>\n",
              "      <td>80</td>\n",
              "      <td>13</td>\n",
              "      <td>0.063887</td>\n",
              "      <td>75</td>\n",
              "      <td>0.000000</td>\n",
              "      <td>1</td>\n",
              "      <td>0.063887</td>\n",
              "      <td>96</td>\n",
              "      <td>15.652637</td>\n",
              "      <td>0.567630</td>\n",
              "      <td>0.127774</td>\n",
              "      <td>1</td>\n",
              "      <td>DoS</td>\n",
              "      <td>HTTP</td>\n",
              "    </tr>\n",
              "  </tbody>\n",
              "</table>\n",
              "</div>\n",
              "      <button class=\"colab-df-convert\" onclick=\"convertToInteractive('df-1b20744e-748b-4612-a0b6-233b99c5d34c')\"\n",
              "              title=\"Convert this dataframe to an interactive table.\"\n",
              "              style=\"display:none;\">\n",
              "        \n",
              "  <svg xmlns=\"http://www.w3.org/2000/svg\" height=\"24px\"viewBox=\"0 0 24 24\"\n",
              "       width=\"24px\">\n",
              "    <path d=\"M0 0h24v24H0V0z\" fill=\"none\"/>\n",
              "    <path d=\"M18.56 5.44l.94 2.06.94-2.06 2.06-.94-2.06-.94-.94-2.06-.94 2.06-2.06.94zm-11 1L8.5 8.5l.94-2.06 2.06-.94-2.06-.94L8.5 2.5l-.94 2.06-2.06.94zm10 10l.94 2.06.94-2.06 2.06-.94-2.06-.94-.94-2.06-.94 2.06-2.06.94z\"/><path d=\"M17.41 7.96l-1.37-1.37c-.4-.4-.92-.59-1.43-.59-.52 0-1.04.2-1.43.59L10.3 9.45l-7.72 7.72c-.78.78-.78 2.05 0 2.83L4 21.41c.39.39.9.59 1.41.59.51 0 1.02-.2 1.41-.59l7.78-7.78 2.81-2.81c.8-.78.8-2.07 0-2.86zM5.41 20L4 18.59l7.72-7.72 1.47 1.35L5.41 20z\"/>\n",
              "  </svg>\n",
              "      </button>\n",
              "      \n",
              "  <style>\n",
              "    .colab-df-container {\n",
              "      display:flex;\n",
              "      flex-wrap:wrap;\n",
              "      gap: 12px;\n",
              "    }\n",
              "\n",
              "    .colab-df-convert {\n",
              "      background-color: #E8F0FE;\n",
              "      border: none;\n",
              "      border-radius: 50%;\n",
              "      cursor: pointer;\n",
              "      display: none;\n",
              "      fill: #1967D2;\n",
              "      height: 32px;\n",
              "      padding: 0 0 0 0;\n",
              "      width: 32px;\n",
              "    }\n",
              "\n",
              "    .colab-df-convert:hover {\n",
              "      background-color: #E2EBFA;\n",
              "      box-shadow: 0px 1px 2px rgba(60, 64, 67, 0.3), 0px 1px 3px 1px rgba(60, 64, 67, 0.15);\n",
              "      fill: #174EA6;\n",
              "    }\n",
              "\n",
              "    [theme=dark] .colab-df-convert {\n",
              "      background-color: #3B4455;\n",
              "      fill: #D2E3FC;\n",
              "    }\n",
              "\n",
              "    [theme=dark] .colab-df-convert:hover {\n",
              "      background-color: #434B5C;\n",
              "      box-shadow: 0px 1px 3px 1px rgba(0, 0, 0, 0.15);\n",
              "      filter: drop-shadow(0px 1px 2px rgba(0, 0, 0, 0.3));\n",
              "      fill: #FFFFFF;\n",
              "    }\n",
              "  </style>\n",
              "\n",
              "      <script>\n",
              "        const buttonEl =\n",
              "          document.querySelector('#df-1b20744e-748b-4612-a0b6-233b99c5d34c button.colab-df-convert');\n",
              "        buttonEl.style.display =\n",
              "          google.colab.kernel.accessAllowed ? 'block' : 'none';\n",
              "\n",
              "        async function convertToInteractive(key) {\n",
              "          const element = document.querySelector('#df-1b20744e-748b-4612-a0b6-233b99c5d34c');\n",
              "          const dataTable =\n",
              "            await google.colab.kernel.invokeFunction('convertToInteractive',\n",
              "                                                     [key], {});\n",
              "          if (!dataTable) return;\n",
              "\n",
              "          const docLinkHtml = 'Like what you see? Visit the ' +\n",
              "            '<a target=\"_blank\" href=https://colab.research.google.com/notebooks/data_table.ipynb>data table notebook</a>'\n",
              "            + ' to learn more about interactive tables.';\n",
              "          element.innerHTML = '';\n",
              "          dataTable['output_type'] = 'display_data';\n",
              "          await google.colab.output.renderOutput(dataTable, element);\n",
              "          const docLink = document.createElement('div');\n",
              "          docLink.innerHTML = docLinkHtml;\n",
              "          element.appendChild(docLink);\n",
              "        }\n",
              "      </script>\n",
              "    </div>\n",
              "  </div>\n",
              "  "
            ]
          },
          "metadata": {},
          "execution_count": 6
        }
      ],
      "source": [
        "df.head()"
      ]
    },
    {
      "cell_type": "code",
      "execution_count": 7,
      "id": "cf2dbc66-f71b-485f-ab05-c70cb1d9b9d6",
      "metadata": {
        "tags": [],
        "colab": {
          "base_uri": "https://localhost:8080/",
          "height": 270
        },
        "id": "cf2dbc66-f71b-485f-ab05-c70cb1d9b9d6",
        "outputId": "db60b8a1-afc7-43bb-c3f4-04c8f50ec1d5"
      },
      "outputs": [
        {
          "output_type": "execute_result",
          "data": {
            "text/plain": [
              "        proto            saddr  sport            daddr dport  seq    stddev  \\\n",
              "3668517   tcp  192.168.100.150  35064    192.168.100.3    22   81  0.000000   \n",
              "3668518   tcp  192.168.100.150  35066    192.168.100.3    22   82  0.000000   \n",
              "3668519   tcp  192.168.100.150  35070    192.168.100.3    22   84  0.000000   \n",
              "3668520   tcp    192.168.100.3  43001  192.168.100.150  4433   85  0.000000   \n",
              "3668521   arp    192.168.100.3     -1  192.168.100.149    -1   10  0.000056   \n",
              "\n",
              "         N_IN_Conn_P_SrcIP       min  state_number      mean  \\\n",
              "3668517                 19  0.013165             1  0.013165   \n",
              "3668518                 19  0.000574             1  0.000574   \n",
              "3668519                 19  2.874302             6  2.874302   \n",
              "3668520                  3  0.000003             1  0.000003   \n",
              "3668521                  3  0.000080             2  0.000145   \n",
              "\n",
              "         N_IN_Conn_P_DstIP        drate        srate       max  attack  \\\n",
              "3668517                 19   151.917969   151.917969  0.013165       1   \n",
              "3668518                 19  3484.320557  3484.320557  0.000574       1   \n",
              "3668519                 19     5.566569     4.522837  2.874302       1   \n",
              "3668520                  1     0.000000     0.000000  0.000003       1   \n",
              "3668521                  2     0.008255     0.008255  0.000272       1   \n",
              "\n",
              "        category subcategory  \n",
              "3668517    Theft  Keylogging  \n",
              "3668518    Theft  Keylogging  \n",
              "3668519    Theft  Keylogging  \n",
              "3668520    Theft  Keylogging  \n",
              "3668521    Theft  Keylogging  "
            ],
            "text/html": [
              "\n",
              "  <div id=\"df-eccaaf9f-a0ea-40ea-9939-51ce862cafa6\">\n",
              "    <div class=\"colab-df-container\">\n",
              "      <div>\n",
              "<style scoped>\n",
              "    .dataframe tbody tr th:only-of-type {\n",
              "        vertical-align: middle;\n",
              "    }\n",
              "\n",
              "    .dataframe tbody tr th {\n",
              "        vertical-align: top;\n",
              "    }\n",
              "\n",
              "    .dataframe thead th {\n",
              "        text-align: right;\n",
              "    }\n",
              "</style>\n",
              "<table border=\"1\" class=\"dataframe\">\n",
              "  <thead>\n",
              "    <tr style=\"text-align: right;\">\n",
              "      <th></th>\n",
              "      <th>proto</th>\n",
              "      <th>saddr</th>\n",
              "      <th>sport</th>\n",
              "      <th>daddr</th>\n",
              "      <th>dport</th>\n",
              "      <th>seq</th>\n",
              "      <th>stddev</th>\n",
              "      <th>N_IN_Conn_P_SrcIP</th>\n",
              "      <th>min</th>\n",
              "      <th>state_number</th>\n",
              "      <th>mean</th>\n",
              "      <th>N_IN_Conn_P_DstIP</th>\n",
              "      <th>drate</th>\n",
              "      <th>srate</th>\n",
              "      <th>max</th>\n",
              "      <th>attack</th>\n",
              "      <th>category</th>\n",
              "      <th>subcategory</th>\n",
              "    </tr>\n",
              "  </thead>\n",
              "  <tbody>\n",
              "    <tr>\n",
              "      <th>3668517</th>\n",
              "      <td>tcp</td>\n",
              "      <td>192.168.100.150</td>\n",
              "      <td>35064</td>\n",
              "      <td>192.168.100.3</td>\n",
              "      <td>22</td>\n",
              "      <td>81</td>\n",
              "      <td>0.000000</td>\n",
              "      <td>19</td>\n",
              "      <td>0.013165</td>\n",
              "      <td>1</td>\n",
              "      <td>0.013165</td>\n",
              "      <td>19</td>\n",
              "      <td>151.917969</td>\n",
              "      <td>151.917969</td>\n",
              "      <td>0.013165</td>\n",
              "      <td>1</td>\n",
              "      <td>Theft</td>\n",
              "      <td>Keylogging</td>\n",
              "    </tr>\n",
              "    <tr>\n",
              "      <th>3668518</th>\n",
              "      <td>tcp</td>\n",
              "      <td>192.168.100.150</td>\n",
              "      <td>35066</td>\n",
              "      <td>192.168.100.3</td>\n",
              "      <td>22</td>\n",
              "      <td>82</td>\n",
              "      <td>0.000000</td>\n",
              "      <td>19</td>\n",
              "      <td>0.000574</td>\n",
              "      <td>1</td>\n",
              "      <td>0.000574</td>\n",
              "      <td>19</td>\n",
              "      <td>3484.320557</td>\n",
              "      <td>3484.320557</td>\n",
              "      <td>0.000574</td>\n",
              "      <td>1</td>\n",
              "      <td>Theft</td>\n",
              "      <td>Keylogging</td>\n",
              "    </tr>\n",
              "    <tr>\n",
              "      <th>3668519</th>\n",
              "      <td>tcp</td>\n",
              "      <td>192.168.100.150</td>\n",
              "      <td>35070</td>\n",
              "      <td>192.168.100.3</td>\n",
              "      <td>22</td>\n",
              "      <td>84</td>\n",
              "      <td>0.000000</td>\n",
              "      <td>19</td>\n",
              "      <td>2.874302</td>\n",
              "      <td>6</td>\n",
              "      <td>2.874302</td>\n",
              "      <td>19</td>\n",
              "      <td>5.566569</td>\n",
              "      <td>4.522837</td>\n",
              "      <td>2.874302</td>\n",
              "      <td>1</td>\n",
              "      <td>Theft</td>\n",
              "      <td>Keylogging</td>\n",
              "    </tr>\n",
              "    <tr>\n",
              "      <th>3668520</th>\n",
              "      <td>tcp</td>\n",
              "      <td>192.168.100.3</td>\n",
              "      <td>43001</td>\n",
              "      <td>192.168.100.150</td>\n",
              "      <td>4433</td>\n",
              "      <td>85</td>\n",
              "      <td>0.000000</td>\n",
              "      <td>3</td>\n",
              "      <td>0.000003</td>\n",
              "      <td>1</td>\n",
              "      <td>0.000003</td>\n",
              "      <td>1</td>\n",
              "      <td>0.000000</td>\n",
              "      <td>0.000000</td>\n",
              "      <td>0.000003</td>\n",
              "      <td>1</td>\n",
              "      <td>Theft</td>\n",
              "      <td>Keylogging</td>\n",
              "    </tr>\n",
              "    <tr>\n",
              "      <th>3668521</th>\n",
              "      <td>arp</td>\n",
              "      <td>192.168.100.3</td>\n",
              "      <td>-1</td>\n",
              "      <td>192.168.100.149</td>\n",
              "      <td>-1</td>\n",
              "      <td>10</td>\n",
              "      <td>0.000056</td>\n",
              "      <td>3</td>\n",
              "      <td>0.000080</td>\n",
              "      <td>2</td>\n",
              "      <td>0.000145</td>\n",
              "      <td>2</td>\n",
              "      <td>0.008255</td>\n",
              "      <td>0.008255</td>\n",
              "      <td>0.000272</td>\n",
              "      <td>1</td>\n",
              "      <td>Theft</td>\n",
              "      <td>Keylogging</td>\n",
              "    </tr>\n",
              "  </tbody>\n",
              "</table>\n",
              "</div>\n",
              "      <button class=\"colab-df-convert\" onclick=\"convertToInteractive('df-eccaaf9f-a0ea-40ea-9939-51ce862cafa6')\"\n",
              "              title=\"Convert this dataframe to an interactive table.\"\n",
              "              style=\"display:none;\">\n",
              "        \n",
              "  <svg xmlns=\"http://www.w3.org/2000/svg\" height=\"24px\"viewBox=\"0 0 24 24\"\n",
              "       width=\"24px\">\n",
              "    <path d=\"M0 0h24v24H0V0z\" fill=\"none\"/>\n",
              "    <path d=\"M18.56 5.44l.94 2.06.94-2.06 2.06-.94-2.06-.94-.94-2.06-.94 2.06-2.06.94zm-11 1L8.5 8.5l.94-2.06 2.06-.94-2.06-.94L8.5 2.5l-.94 2.06-2.06.94zm10 10l.94 2.06.94-2.06 2.06-.94-2.06-.94-.94-2.06-.94 2.06-2.06.94z\"/><path d=\"M17.41 7.96l-1.37-1.37c-.4-.4-.92-.59-1.43-.59-.52 0-1.04.2-1.43.59L10.3 9.45l-7.72 7.72c-.78.78-.78 2.05 0 2.83L4 21.41c.39.39.9.59 1.41.59.51 0 1.02-.2 1.41-.59l7.78-7.78 2.81-2.81c.8-.78.8-2.07 0-2.86zM5.41 20L4 18.59l7.72-7.72 1.47 1.35L5.41 20z\"/>\n",
              "  </svg>\n",
              "      </button>\n",
              "      \n",
              "  <style>\n",
              "    .colab-df-container {\n",
              "      display:flex;\n",
              "      flex-wrap:wrap;\n",
              "      gap: 12px;\n",
              "    }\n",
              "\n",
              "    .colab-df-convert {\n",
              "      background-color: #E8F0FE;\n",
              "      border: none;\n",
              "      border-radius: 50%;\n",
              "      cursor: pointer;\n",
              "      display: none;\n",
              "      fill: #1967D2;\n",
              "      height: 32px;\n",
              "      padding: 0 0 0 0;\n",
              "      width: 32px;\n",
              "    }\n",
              "\n",
              "    .colab-df-convert:hover {\n",
              "      background-color: #E2EBFA;\n",
              "      box-shadow: 0px 1px 2px rgba(60, 64, 67, 0.3), 0px 1px 3px 1px rgba(60, 64, 67, 0.15);\n",
              "      fill: #174EA6;\n",
              "    }\n",
              "\n",
              "    [theme=dark] .colab-df-convert {\n",
              "      background-color: #3B4455;\n",
              "      fill: #D2E3FC;\n",
              "    }\n",
              "\n",
              "    [theme=dark] .colab-df-convert:hover {\n",
              "      background-color: #434B5C;\n",
              "      box-shadow: 0px 1px 3px 1px rgba(0, 0, 0, 0.15);\n",
              "      filter: drop-shadow(0px 1px 2px rgba(0, 0, 0, 0.3));\n",
              "      fill: #FFFFFF;\n",
              "    }\n",
              "  </style>\n",
              "\n",
              "      <script>\n",
              "        const buttonEl =\n",
              "          document.querySelector('#df-eccaaf9f-a0ea-40ea-9939-51ce862cafa6 button.colab-df-convert');\n",
              "        buttonEl.style.display =\n",
              "          google.colab.kernel.accessAllowed ? 'block' : 'none';\n",
              "\n",
              "        async function convertToInteractive(key) {\n",
              "          const element = document.querySelector('#df-eccaaf9f-a0ea-40ea-9939-51ce862cafa6');\n",
              "          const dataTable =\n",
              "            await google.colab.kernel.invokeFunction('convertToInteractive',\n",
              "                                                     [key], {});\n",
              "          if (!dataTable) return;\n",
              "\n",
              "          const docLinkHtml = 'Like what you see? Visit the ' +\n",
              "            '<a target=\"_blank\" href=https://colab.research.google.com/notebooks/data_table.ipynb>data table notebook</a>'\n",
              "            + ' to learn more about interactive tables.';\n",
              "          element.innerHTML = '';\n",
              "          dataTable['output_type'] = 'display_data';\n",
              "          await google.colab.output.renderOutput(dataTable, element);\n",
              "          const docLink = document.createElement('div');\n",
              "          docLink.innerHTML = docLinkHtml;\n",
              "          element.appendChild(docLink);\n",
              "        }\n",
              "      </script>\n",
              "    </div>\n",
              "  </div>\n",
              "  "
            ]
          },
          "metadata": {},
          "execution_count": 7
        }
      ],
      "source": [
        "df.tail()"
      ]
    },
    {
      "cell_type": "code",
      "execution_count": 8,
      "id": "4331fe6f-1807-4df4-ac19-72a4cfb8b73d",
      "metadata": {
        "tags": [],
        "colab": {
          "base_uri": "https://localhost:8080/"
        },
        "id": "4331fe6f-1807-4df4-ac19-72a4cfb8b73d",
        "outputId": "c3250067-d24e-4ff8-f12a-ba2eb19150bb"
      },
      "outputs": [
        {
          "output_type": "execute_result",
          "data": {
            "text/plain": [
              "Index(['proto', 'saddr', 'sport', 'daddr', 'dport', 'seq', 'stddev',\n",
              "       'N_IN_Conn_P_SrcIP', 'min', 'state_number', 'mean', 'N_IN_Conn_P_DstIP',\n",
              "       'drate', 'srate', 'max', 'attack', 'category', 'subcategory'],\n",
              "      dtype='object')"
            ]
          },
          "metadata": {},
          "execution_count": 8
        }
      ],
      "source": [
        "df.keys()"
      ]
    },
    {
      "cell_type": "code",
      "execution_count": 9,
      "id": "ddb12be0-9078-4222-b794-2523b74df8c2",
      "metadata": {
        "tags": [],
        "colab": {
          "base_uri": "https://localhost:8080/"
        },
        "id": "ddb12be0-9078-4222-b794-2523b74df8c2",
        "outputId": "7939d813-81df-42f4-aaf0-0f77fd1db946"
      },
      "outputs": [
        {
          "output_type": "stream",
          "name": "stdout",
          "text": [
            "5\n"
          ]
        }
      ],
      "source": [
        "print(df['category'].nunique())"
      ]
    },
    {
      "cell_type": "code",
      "execution_count": 10,
      "id": "2229b003-5a11-4687-bc40-50af90c2eded",
      "metadata": {
        "tags": [],
        "colab": {
          "base_uri": "https://localhost:8080/"
        },
        "id": "2229b003-5a11-4687-bc40-50af90c2eded",
        "outputId": "61f30e63-76ca-45e8-e435-ce91556e2ce8"
      },
      "outputs": [
        {
          "output_type": "stream",
          "name": "stdout",
          "text": [
            "['DoS' 'DDoS' 'Normal' 'Reconnaissance' 'Theft']\n"
          ]
        }
      ],
      "source": [
        "print(df['category'].unique())"
      ]
    },
    {
      "cell_type": "code",
      "execution_count": 11,
      "id": "ac02530b-b9d6-4d70-b487-6d1fbdd58a8b",
      "metadata": {
        "tags": [],
        "id": "ac02530b-b9d6-4d70-b487-6d1fbdd58a8b"
      },
      "outputs": [],
      "source": [
        "df.dropna(subset=['category'], inplace=True)"
      ]
    },
    {
      "cell_type": "code",
      "execution_count": 12,
      "id": "e8607ec6-bd3b-447b-a55e-7e8e4ea7749c",
      "metadata": {
        "tags": [],
        "colab": {
          "base_uri": "https://localhost:8080/"
        },
        "id": "e8607ec6-bd3b-447b-a55e-7e8e4ea7749c",
        "outputId": "8ce218bb-9af4-47c4-ad68-d283353d1443"
      },
      "outputs": [
        {
          "output_type": "stream",
          "name": "stdout",
          "text": [
            "DDoS              1926624\n",
            "DoS               1650260\n",
            "Reconnaissance      91082\n",
            "Normal                477\n",
            "Theft                  79\n",
            "Name: category, dtype: int64\n"
          ]
        }
      ],
      "source": [
        "print(df['category'].value_counts())    "
      ]
    },
    {
      "cell_type": "code",
      "execution_count": 13,
      "id": "4c75c619-2747-443e-9079-38cbff9bb004",
      "metadata": {
        "tags": [],
        "colab": {
          "base_uri": "https://localhost:8080/"
        },
        "id": "4c75c619-2747-443e-9079-38cbff9bb004",
        "outputId": "62f6484f-b8a5-4ef8-cf89-5eea73e682dd"
      },
      "outputs": [
        {
          "output_type": "stream",
          "name": "stdout",
          "text": [
            "UDP                  1981230\n",
            "TCP                  1593180\n",
            "Service_Scan           73168\n",
            "OS_Fingerprint         17914\n",
            "HTTP                    2474\n",
            "Normal                   477\n",
            "Keylogging                73\n",
            "Data_Exfiltration          6\n",
            "Name: subcategory, dtype: int64\n"
          ]
        }
      ],
      "source": [
        "print(df['subcategory'].value_counts())   "
      ]
    },
    {
      "cell_type": "code",
      "execution_count": 14,
      "id": "85c6ed66-1746-4c96-9364-af876ce01773",
      "metadata": {
        "tags": [],
        "id": "85c6ed66-1746-4c96-9364-af876ce01773"
      },
      "outputs": [],
      "source": [
        "label_encoder = LabelEncoder()\n",
        "label_encoder.fit(df['proto'])\n",
        "df['proto'] = label_encoder.transform(df['proto'])"
      ]
    },
    {
      "cell_type": "code",
      "execution_count": 15,
      "id": "10d6fdd1-77d3-4178-a2f6-d40665d9577a",
      "metadata": {
        "tags": [],
        "id": "10d6fdd1-77d3-4178-a2f6-d40665d9577a"
      },
      "outputs": [],
      "source": [
        "label_encoder = LabelEncoder()\n",
        "label_encoder.fit(df['saddr'])\n",
        "df['saddr'] = label_encoder.transform(df['saddr'])"
      ]
    },
    {
      "cell_type": "code",
      "execution_count": 16,
      "id": "57543b3f-1265-48d3-90a8-35bb1d1c6787",
      "metadata": {
        "tags": [],
        "id": "57543b3f-1265-48d3-90a8-35bb1d1c6787"
      },
      "outputs": [],
      "source": [
        "label_encoder = LabelEncoder()\n",
        "label_encoder.fit(df['daddr'])\n",
        "df['daddr'] = label_encoder.transform(df['daddr'])"
      ]
    },
    {
      "cell_type": "code",
      "execution_count": 17,
      "id": "4b8e568a-2083-43f3-85a2-f7091974a44d",
      "metadata": {
        "tags": [],
        "colab": {
          "base_uri": "https://localhost:8080/"
        },
        "id": "4b8e568a-2083-43f3-85a2-f7091974a44d",
        "outputId": "3b09d46a-0ffb-4f39-90d2-80135a7a78ce"
      },
      "outputs": [
        {
          "output_type": "stream",
          "name": "stdout",
          "text": [
            "['DoS' 'DDoS' 'Normal' 'Reconnaissance' 'Theft']\n"
          ]
        }
      ],
      "source": [
        "print(df['category'].unique())"
      ]
    },
    {
      "cell_type": "code",
      "execution_count": 18,
      "id": "40ea14b0-2b26-4506-9547-1e7133711f2e",
      "metadata": {
        "tags": [],
        "id": "40ea14b0-2b26-4506-9547-1e7133711f2e"
      },
      "outputs": [],
      "source": [
        "label_mapping = {\n",
        "    'DoS': 1,\n",
        "    'DDoS': 2,\n",
        "    'Normal': 3,\n",
        "    'Reconnaissance': 4,\n",
        "    'Theft': 5}"
      ]
    },
    {
      "cell_type": "code",
      "execution_count": 19,
      "id": "06b8c13d-7e1d-438e-b7b8-da25caba081c",
      "metadata": {
        "tags": [],
        "id": "06b8c13d-7e1d-438e-b7b8-da25caba081c"
      },
      "outputs": [],
      "source": [
        "df['category'] = df['category'].map(label_mapping)"
      ]
    },
    {
      "cell_type": "code",
      "source": [
        "print(df['category'].unique())"
      ],
      "metadata": {
        "id": "V7tgL0b8ugDN",
        "colab": {
          "base_uri": "https://localhost:8080/"
        },
        "outputId": "6ef96033-fb06-40fb-8a1d-e5336192e2c8"
      },
      "id": "V7tgL0b8ugDN",
      "execution_count": 20,
      "outputs": [
        {
          "output_type": "stream",
          "name": "stdout",
          "text": [
            "[1 2 3 4 5]\n"
          ]
        }
      ]
    },
    {
      "cell_type": "code",
      "execution_count": 21,
      "id": "afe55857-1c99-4010-851d-07b08dab771b",
      "metadata": {
        "tags": [],
        "colab": {
          "base_uri": "https://localhost:8080/"
        },
        "id": "afe55857-1c99-4010-851d-07b08dab771b",
        "outputId": "ad2e5bbd-bd4e-4c9b-e21a-d25f5e7aa007"
      },
      "outputs": [
        {
          "output_type": "stream",
          "name": "stdout",
          "text": [
            "<class 'pandas.core.frame.DataFrame'>\n",
            "RangeIndex: 3668522 entries, 0 to 3668521\n",
            "Data columns (total 18 columns):\n",
            " #   Column             Dtype  \n",
            "---  ------             -----  \n",
            " 0   proto              int64  \n",
            " 1   saddr              int64  \n",
            " 2   sport              object \n",
            " 3   daddr              int64  \n",
            " 4   dport              object \n",
            " 5   seq                int64  \n",
            " 6   stddev             float64\n",
            " 7   N_IN_Conn_P_SrcIP  int64  \n",
            " 8   min                float64\n",
            " 9   state_number       int64  \n",
            " 10  mean               float64\n",
            " 11  N_IN_Conn_P_DstIP  int64  \n",
            " 12  drate              float64\n",
            " 13  srate              float64\n",
            " 14  max                float64\n",
            " 15  attack             int64  \n",
            " 16  category           int64  \n",
            " 17  subcategory        object \n",
            "dtypes: float64(6), int64(9), object(3)\n",
            "memory usage: 503.8+ MB\n"
          ]
        }
      ],
      "source": [
        "df.info()"
      ]
    },
    {
      "cell_type": "code",
      "execution_count": 22,
      "id": "808be154-f456-49f6-b0ab-06879920bedc",
      "metadata": {
        "tags": [],
        "colab": {
          "base_uri": "https://localhost:8080/",
          "height": 364
        },
        "id": "808be154-f456-49f6-b0ab-06879920bedc",
        "outputId": "fdabbfed-a4a8-46cf-99ca-78461b5ea234"
      },
      "outputs": [
        {
          "output_type": "execute_result",
          "data": {
            "text/plain": [
              "              proto         saddr         daddr           seq        stddev  \\\n",
              "count  3.668522e+06  3.668522e+06  3.668522e+06  3.668522e+06  3.668522e+06   \n",
              "mean   3.539096e+00  2.488632e+00  1.724801e+01  1.213204e+05  8.871499e-01   \n",
              "std    5.137874e-01  1.161167e+00  1.956633e+00  7.579428e+04  8.037139e-01   \n",
              "min    0.000000e+00  0.000000e+00  0.000000e+00  1.000000e+00  0.000000e+00   \n",
              "25%    3.000000e+00  1.000000e+00  1.600000e+01  5.487600e+04  3.001900e-02   \n",
              "50%    4.000000e+00  2.000000e+00  1.600000e+01  1.177690e+05  7.938960e-01   \n",
              "75%    4.000000e+00  3.000000e+00  1.800000e+01  1.849300e+05  1.745296e+00   \n",
              "max    4.000000e+00  2.000000e+01  8.300000e+01  2.622120e+05  2.496763e+00   \n",
              "\n",
              "       N_IN_Conn_P_SrcIP           min  state_number          mean  \\\n",
              "count       3.668522e+06  3.668522e+06  3.668522e+06  3.668522e+06   \n",
              "mean        8.253848e+01  1.017540e+00  3.134390e+00  2.231063e+00   \n",
              "std         2.439739e+01  1.483688e+00  1.186971e+00  1.517728e+00   \n",
              "min         1.000000e+00  0.000000e+00  1.000000e+00  0.000000e+00   \n",
              "25%         6.900000e+01  0.000000e+00  3.000000e+00  1.819670e-01   \n",
              "50%         1.000000e+02  0.000000e+00  4.000000e+00  2.690125e+00   \n",
              "75%         1.000000e+02  2.151138e+00  4.000000e+00  3.565203e+00   \n",
              "max         1.000000e+02  4.980471e+00  1.100000e+01  4.981882e+00   \n",
              "\n",
              "       N_IN_Conn_P_DstIP         drate         srate           max  \\\n",
              "count       3.668522e+06  3.668522e+06  3.668522e+06  3.668522e+06   \n",
              "mean        9.245168e+01  4.455046e-01  2.955111e+00  3.020015e+00   \n",
              "std         1.817643e+01  6.028863e+01  7.245425e+02  1.860877e+00   \n",
              "min         1.000000e+00  0.000000e+00  0.000000e+00  0.000000e+00   \n",
              "25%         1.000000e+02  0.000000e+00  1.559700e-01  2.806072e-01   \n",
              "50%         1.000000e+02  0.000000e+00  2.837830e-01  4.009111e+00   \n",
              "75%         1.000000e+02  0.000000e+00  4.882010e-01  4.293582e+00   \n",
              "max         1.000000e+02  5.882353e+04  1.000000e+06  4.999999e+00   \n",
              "\n",
              "             attack      category  \n",
              "count  3.668522e+06  3.668522e+06  \n",
              "mean   9.998700e-01  1.600007e+00  \n",
              "std    1.140212e-02  6.240873e-01  \n",
              "min    0.000000e+00  1.000000e+00  \n",
              "25%    1.000000e+00  1.000000e+00  \n",
              "50%    1.000000e+00  2.000000e+00  \n",
              "75%    1.000000e+00  2.000000e+00  \n",
              "max    1.000000e+00  5.000000e+00  "
            ],
            "text/html": [
              "\n",
              "  <div id=\"df-15a0fb25-32b2-4bf3-a0f0-02134356d1e9\">\n",
              "    <div class=\"colab-df-container\">\n",
              "      <div>\n",
              "<style scoped>\n",
              "    .dataframe tbody tr th:only-of-type {\n",
              "        vertical-align: middle;\n",
              "    }\n",
              "\n",
              "    .dataframe tbody tr th {\n",
              "        vertical-align: top;\n",
              "    }\n",
              "\n",
              "    .dataframe thead th {\n",
              "        text-align: right;\n",
              "    }\n",
              "</style>\n",
              "<table border=\"1\" class=\"dataframe\">\n",
              "  <thead>\n",
              "    <tr style=\"text-align: right;\">\n",
              "      <th></th>\n",
              "      <th>proto</th>\n",
              "      <th>saddr</th>\n",
              "      <th>daddr</th>\n",
              "      <th>seq</th>\n",
              "      <th>stddev</th>\n",
              "      <th>N_IN_Conn_P_SrcIP</th>\n",
              "      <th>min</th>\n",
              "      <th>state_number</th>\n",
              "      <th>mean</th>\n",
              "      <th>N_IN_Conn_P_DstIP</th>\n",
              "      <th>drate</th>\n",
              "      <th>srate</th>\n",
              "      <th>max</th>\n",
              "      <th>attack</th>\n",
              "      <th>category</th>\n",
              "    </tr>\n",
              "  </thead>\n",
              "  <tbody>\n",
              "    <tr>\n",
              "      <th>count</th>\n",
              "      <td>3.668522e+06</td>\n",
              "      <td>3.668522e+06</td>\n",
              "      <td>3.668522e+06</td>\n",
              "      <td>3.668522e+06</td>\n",
              "      <td>3.668522e+06</td>\n",
              "      <td>3.668522e+06</td>\n",
              "      <td>3.668522e+06</td>\n",
              "      <td>3.668522e+06</td>\n",
              "      <td>3.668522e+06</td>\n",
              "      <td>3.668522e+06</td>\n",
              "      <td>3.668522e+06</td>\n",
              "      <td>3.668522e+06</td>\n",
              "      <td>3.668522e+06</td>\n",
              "      <td>3.668522e+06</td>\n",
              "      <td>3.668522e+06</td>\n",
              "    </tr>\n",
              "    <tr>\n",
              "      <th>mean</th>\n",
              "      <td>3.539096e+00</td>\n",
              "      <td>2.488632e+00</td>\n",
              "      <td>1.724801e+01</td>\n",
              "      <td>1.213204e+05</td>\n",
              "      <td>8.871499e-01</td>\n",
              "      <td>8.253848e+01</td>\n",
              "      <td>1.017540e+00</td>\n",
              "      <td>3.134390e+00</td>\n",
              "      <td>2.231063e+00</td>\n",
              "      <td>9.245168e+01</td>\n",
              "      <td>4.455046e-01</td>\n",
              "      <td>2.955111e+00</td>\n",
              "      <td>3.020015e+00</td>\n",
              "      <td>9.998700e-01</td>\n",
              "      <td>1.600007e+00</td>\n",
              "    </tr>\n",
              "    <tr>\n",
              "      <th>std</th>\n",
              "      <td>5.137874e-01</td>\n",
              "      <td>1.161167e+00</td>\n",
              "      <td>1.956633e+00</td>\n",
              "      <td>7.579428e+04</td>\n",
              "      <td>8.037139e-01</td>\n",
              "      <td>2.439739e+01</td>\n",
              "      <td>1.483688e+00</td>\n",
              "      <td>1.186971e+00</td>\n",
              "      <td>1.517728e+00</td>\n",
              "      <td>1.817643e+01</td>\n",
              "      <td>6.028863e+01</td>\n",
              "      <td>7.245425e+02</td>\n",
              "      <td>1.860877e+00</td>\n",
              "      <td>1.140212e-02</td>\n",
              "      <td>6.240873e-01</td>\n",
              "    </tr>\n",
              "    <tr>\n",
              "      <th>min</th>\n",
              "      <td>0.000000e+00</td>\n",
              "      <td>0.000000e+00</td>\n",
              "      <td>0.000000e+00</td>\n",
              "      <td>1.000000e+00</td>\n",
              "      <td>0.000000e+00</td>\n",
              "      <td>1.000000e+00</td>\n",
              "      <td>0.000000e+00</td>\n",
              "      <td>1.000000e+00</td>\n",
              "      <td>0.000000e+00</td>\n",
              "      <td>1.000000e+00</td>\n",
              "      <td>0.000000e+00</td>\n",
              "      <td>0.000000e+00</td>\n",
              "      <td>0.000000e+00</td>\n",
              "      <td>0.000000e+00</td>\n",
              "      <td>1.000000e+00</td>\n",
              "    </tr>\n",
              "    <tr>\n",
              "      <th>25%</th>\n",
              "      <td>3.000000e+00</td>\n",
              "      <td>1.000000e+00</td>\n",
              "      <td>1.600000e+01</td>\n",
              "      <td>5.487600e+04</td>\n",
              "      <td>3.001900e-02</td>\n",
              "      <td>6.900000e+01</td>\n",
              "      <td>0.000000e+00</td>\n",
              "      <td>3.000000e+00</td>\n",
              "      <td>1.819670e-01</td>\n",
              "      <td>1.000000e+02</td>\n",
              "      <td>0.000000e+00</td>\n",
              "      <td>1.559700e-01</td>\n",
              "      <td>2.806072e-01</td>\n",
              "      <td>1.000000e+00</td>\n",
              "      <td>1.000000e+00</td>\n",
              "    </tr>\n",
              "    <tr>\n",
              "      <th>50%</th>\n",
              "      <td>4.000000e+00</td>\n",
              "      <td>2.000000e+00</td>\n",
              "      <td>1.600000e+01</td>\n",
              "      <td>1.177690e+05</td>\n",
              "      <td>7.938960e-01</td>\n",
              "      <td>1.000000e+02</td>\n",
              "      <td>0.000000e+00</td>\n",
              "      <td>4.000000e+00</td>\n",
              "      <td>2.690125e+00</td>\n",
              "      <td>1.000000e+02</td>\n",
              "      <td>0.000000e+00</td>\n",
              "      <td>2.837830e-01</td>\n",
              "      <td>4.009111e+00</td>\n",
              "      <td>1.000000e+00</td>\n",
              "      <td>2.000000e+00</td>\n",
              "    </tr>\n",
              "    <tr>\n",
              "      <th>75%</th>\n",
              "      <td>4.000000e+00</td>\n",
              "      <td>3.000000e+00</td>\n",
              "      <td>1.800000e+01</td>\n",
              "      <td>1.849300e+05</td>\n",
              "      <td>1.745296e+00</td>\n",
              "      <td>1.000000e+02</td>\n",
              "      <td>2.151138e+00</td>\n",
              "      <td>4.000000e+00</td>\n",
              "      <td>3.565203e+00</td>\n",
              "      <td>1.000000e+02</td>\n",
              "      <td>0.000000e+00</td>\n",
              "      <td>4.882010e-01</td>\n",
              "      <td>4.293582e+00</td>\n",
              "      <td>1.000000e+00</td>\n",
              "      <td>2.000000e+00</td>\n",
              "    </tr>\n",
              "    <tr>\n",
              "      <th>max</th>\n",
              "      <td>4.000000e+00</td>\n",
              "      <td>2.000000e+01</td>\n",
              "      <td>8.300000e+01</td>\n",
              "      <td>2.622120e+05</td>\n",
              "      <td>2.496763e+00</td>\n",
              "      <td>1.000000e+02</td>\n",
              "      <td>4.980471e+00</td>\n",
              "      <td>1.100000e+01</td>\n",
              "      <td>4.981882e+00</td>\n",
              "      <td>1.000000e+02</td>\n",
              "      <td>5.882353e+04</td>\n",
              "      <td>1.000000e+06</td>\n",
              "      <td>4.999999e+00</td>\n",
              "      <td>1.000000e+00</td>\n",
              "      <td>5.000000e+00</td>\n",
              "    </tr>\n",
              "  </tbody>\n",
              "</table>\n",
              "</div>\n",
              "      <button class=\"colab-df-convert\" onclick=\"convertToInteractive('df-15a0fb25-32b2-4bf3-a0f0-02134356d1e9')\"\n",
              "              title=\"Convert this dataframe to an interactive table.\"\n",
              "              style=\"display:none;\">\n",
              "        \n",
              "  <svg xmlns=\"http://www.w3.org/2000/svg\" height=\"24px\"viewBox=\"0 0 24 24\"\n",
              "       width=\"24px\">\n",
              "    <path d=\"M0 0h24v24H0V0z\" fill=\"none\"/>\n",
              "    <path d=\"M18.56 5.44l.94 2.06.94-2.06 2.06-.94-2.06-.94-.94-2.06-.94 2.06-2.06.94zm-11 1L8.5 8.5l.94-2.06 2.06-.94-2.06-.94L8.5 2.5l-.94 2.06-2.06.94zm10 10l.94 2.06.94-2.06 2.06-.94-2.06-.94-.94-2.06-.94 2.06-2.06.94z\"/><path d=\"M17.41 7.96l-1.37-1.37c-.4-.4-.92-.59-1.43-.59-.52 0-1.04.2-1.43.59L10.3 9.45l-7.72 7.72c-.78.78-.78 2.05 0 2.83L4 21.41c.39.39.9.59 1.41.59.51 0 1.02-.2 1.41-.59l7.78-7.78 2.81-2.81c.8-.78.8-2.07 0-2.86zM5.41 20L4 18.59l7.72-7.72 1.47 1.35L5.41 20z\"/>\n",
              "  </svg>\n",
              "      </button>\n",
              "      \n",
              "  <style>\n",
              "    .colab-df-container {\n",
              "      display:flex;\n",
              "      flex-wrap:wrap;\n",
              "      gap: 12px;\n",
              "    }\n",
              "\n",
              "    .colab-df-convert {\n",
              "      background-color: #E8F0FE;\n",
              "      border: none;\n",
              "      border-radius: 50%;\n",
              "      cursor: pointer;\n",
              "      display: none;\n",
              "      fill: #1967D2;\n",
              "      height: 32px;\n",
              "      padding: 0 0 0 0;\n",
              "      width: 32px;\n",
              "    }\n",
              "\n",
              "    .colab-df-convert:hover {\n",
              "      background-color: #E2EBFA;\n",
              "      box-shadow: 0px 1px 2px rgba(60, 64, 67, 0.3), 0px 1px 3px 1px rgba(60, 64, 67, 0.15);\n",
              "      fill: #174EA6;\n",
              "    }\n",
              "\n",
              "    [theme=dark] .colab-df-convert {\n",
              "      background-color: #3B4455;\n",
              "      fill: #D2E3FC;\n",
              "    }\n",
              "\n",
              "    [theme=dark] .colab-df-convert:hover {\n",
              "      background-color: #434B5C;\n",
              "      box-shadow: 0px 1px 3px 1px rgba(0, 0, 0, 0.15);\n",
              "      filter: drop-shadow(0px 1px 2px rgba(0, 0, 0, 0.3));\n",
              "      fill: #FFFFFF;\n",
              "    }\n",
              "  </style>\n",
              "\n",
              "      <script>\n",
              "        const buttonEl =\n",
              "          document.querySelector('#df-15a0fb25-32b2-4bf3-a0f0-02134356d1e9 button.colab-df-convert');\n",
              "        buttonEl.style.display =\n",
              "          google.colab.kernel.accessAllowed ? 'block' : 'none';\n",
              "\n",
              "        async function convertToInteractive(key) {\n",
              "          const element = document.querySelector('#df-15a0fb25-32b2-4bf3-a0f0-02134356d1e9');\n",
              "          const dataTable =\n",
              "            await google.colab.kernel.invokeFunction('convertToInteractive',\n",
              "                                                     [key], {});\n",
              "          if (!dataTable) return;\n",
              "\n",
              "          const docLinkHtml = 'Like what you see? Visit the ' +\n",
              "            '<a target=\"_blank\" href=https://colab.research.google.com/notebooks/data_table.ipynb>data table notebook</a>'\n",
              "            + ' to learn more about interactive tables.';\n",
              "          element.innerHTML = '';\n",
              "          dataTable['output_type'] = 'display_data';\n",
              "          await google.colab.output.renderOutput(dataTable, element);\n",
              "          const docLink = document.createElement('div');\n",
              "          docLink.innerHTML = docLinkHtml;\n",
              "          element.appendChild(docLink);\n",
              "        }\n",
              "      </script>\n",
              "    </div>\n",
              "  </div>\n",
              "  "
            ]
          },
          "metadata": {},
          "execution_count": 22
        }
      ],
      "source": [
        "df.describe()"
      ]
    },
    {
      "cell_type": "code",
      "execution_count": 23,
      "id": "4a9c940d-6ff9-4993-a111-f65add784338",
      "metadata": {
        "tags": [],
        "colab": {
          "base_uri": "https://localhost:8080/"
        },
        "id": "4a9c940d-6ff9-4993-a111-f65add784338",
        "outputId": "edc65efc-d7e6-415c-90c5-b4eac297b15a"
      },
      "outputs": [
        {
          "output_type": "execute_result",
          "data": {
            "text/plain": [
              "(3668522, 18)"
            ]
          },
          "metadata": {},
          "execution_count": 23
        }
      ],
      "source": [
        "df.shape"
      ]
    },
    {
      "cell_type": "code",
      "execution_count": 24,
      "id": "b1b27229-5fd2-4bb7-a830-e4f9e503e4e7",
      "metadata": {
        "tags": [],
        "colab": {
          "base_uri": "https://localhost:8080/"
        },
        "id": "b1b27229-5fd2-4bb7-a830-e4f9e503e4e7",
        "outputId": "fd414664-8e1a-42e0-9cb4-9ab16e303429"
      },
      "outputs": [
        {
          "output_type": "execute_result",
          "data": {
            "text/plain": [
              "[]"
            ]
          },
          "metadata": {},
          "execution_count": 24
        }
      ],
      "source": [
        "[features for features in df.columns if df[features].isnull().sum()>0]"
      ]
    },
    {
      "cell_type": "code",
      "execution_count": 25,
      "id": "56752fd7-64bd-4703-bbcf-75aa6c499670",
      "metadata": {
        "tags": [],
        "colab": {
          "base_uri": "https://localhost:8080/"
        },
        "id": "56752fd7-64bd-4703-bbcf-75aa6c499670",
        "outputId": "3ad94366-b9d9-4f8d-bdef-629a0e11e8f1"
      },
      "outputs": [
        {
          "output_type": "stream",
          "name": "stdout",
          "text": [
            "proto                False\n",
            "saddr                False\n",
            "sport                False\n",
            "daddr                False\n",
            "dport                False\n",
            "seq                  False\n",
            "stddev               False\n",
            "N_IN_Conn_P_SrcIP    False\n",
            "min                  False\n",
            "state_number         False\n",
            "mean                 False\n",
            "N_IN_Conn_P_DstIP    False\n",
            "drate                False\n",
            "srate                False\n",
            "max                  False\n",
            "attack               False\n",
            "category             False\n",
            "subcategory          False\n",
            "dtype: bool\n"
          ]
        }
      ],
      "source": [
        "print(df.isna().any())"
      ]
    },
    {
      "cell_type": "code",
      "execution_count": 26,
      "id": "15d1da50-d8c6-41e1-9bfd-ca54486c95d3",
      "metadata": {
        "tags": [],
        "id": "15d1da50-d8c6-41e1-9bfd-ca54486c95d3",
        "outputId": "ac830a81-7646-4628-c79d-82675162d603",
        "colab": {
          "base_uri": "https://localhost:8080/",
          "height": 465
        }
      },
      "outputs": [
        {
          "output_type": "display_data",
          "data": {
            "text/plain": [
              "<Figure size 640x480 with 1 Axes>"
            ],
            "image/png": "[encoded data removed]"
          },
          "metadata": {}
        }
      ],
      "source": [
        "sns.countplot(x='category', data=df)\n",
        "plt.show()"
      ]
    },
    {
      "cell_type": "markdown",
      "id": "93625e16-f6e8-4780-84f4-5cad497d120a",
      "metadata": {
        "id": "93625e16-f6e8-4780-84f4-5cad497d120a"
      },
      "source": [
        "Ensemble Machine Learning algorithm"
      ]
    },
    {
      "cell_type": "code",
      "execution_count": 27,
      "id": "42e1f0bd-5918-4bcb-8c7a-318526c34380",
      "metadata": {
        "tags": [],
        "id": "42e1f0bd-5918-4bcb-8c7a-318526c34380"
      },
      "outputs": [],
      "source": [
        "predictorNames = ['proto', 'saddr', 'sport', 'daddr', 'dport', 'seq', 'stddev',\n",
        "       'N_IN_Conn_P_SrcIP', 'min', 'state_number', 'mean', 'N_IN_Conn_P_DstIP',\n",
        "       'drate', 'srate', 'max', 'attack']"
      ]
    },
    {
      "cell_type": "code",
      "execution_count": 28,
      "id": "e49e4c90-7fc6-40b3-8283-1de2595a2ed7",
      "metadata": {
        "tags": [],
        "id": "e49e4c90-7fc6-40b3-8283-1de2595a2ed7"
      },
      "outputs": [],
      "source": [
        "predictors = df[predictorNames]"
      ]
    },
    {
      "cell_type": "code",
      "execution_count": 29,
      "id": "8ab70255-8d83-41a0-b927-1f7ebcbb220c",
      "metadata": {
        "tags": [],
        "id": "8ab70255-8d83-41a0-b927-1f7ebcbb220c"
      },
      "outputs": [],
      "source": [
        "response = df['category']"
      ]
    },
    {
      "cell_type": "code",
      "execution_count": 30,
      "id": "675e094d-0970-455c-85c8-984c6119a0e7",
      "metadata": {
        "tags": [],
        "id": "675e094d-0970-455c-85c8-984c6119a0e7"
      },
      "outputs": [],
      "source": [
        "scaler = StandardScaler()"
      ]
    },
    {
      "cell_type": "code",
      "execution_count": 31,
      "id": "95046a0e-a0f3-473b-ad5e-cbac082180e4",
      "metadata": {
        "id": "95046a0e-a0f3-473b-ad5e-cbac082180e4"
      },
      "outputs": [],
      "source": [
        "X_train, X_val, y_train, y_val = train_test_split(predictors, response, test_size=0.2, random_state=42)"
      ]
    },
    {
      "cell_type": "code",
      "execution_count": 32,
      "id": "aa596b9c-8214-445c-9684-4e3ce059d2ce",
      "metadata": {
        "tags": [],
        "id": "aa596b9c-8214-445c-9684-4e3ce059d2ce"
      },
      "outputs": [],
      "source": [
        "X_train = np.nan_to_num(X_train, nan=0.0, posinf=1e9, neginf=-1e9)\n",
        "X_val = np.nan_to_num(X_val, nan=0.0, posinf=1e9, neginf=-1e9)"
      ]
    },
    {
      "cell_type": "code",
      "execution_count": 33,
      "id": "b89873b6-d935-4fdf-aaa2-37d2364ac67b",
      "metadata": {
        "tags": [],
        "id": "b89873b6-d935-4fdf-aaa2-37d2364ac67b"
      },
      "outputs": [],
      "source": [
        "X_train = X_train.astype(np.float128)"
      ]
    },
    {
      "cell_type": "code",
      "execution_count": 34,
      "id": "d6b6c156-bf7d-4de4-b2db-7a5c0637b6ef",
      "metadata": {
        "tags": [],
        "id": "d6b6c156-bf7d-4de4-b2db-7a5c0637b6ef"
      },
      "outputs": [],
      "source": [
        "X_val = X_val.astype(np.float128)"
      ]
    },
    {
      "cell_type": "code",
      "execution_count": 35,
      "id": "e6e46542-f7ee-4afd-8aee-4dbb6b5c4a78",
      "metadata": {
        "tags": [],
        "id": "e6e46542-f7ee-4afd-8aee-4dbb6b5c4a78"
      },
      "outputs": [],
      "source": [
        "X_train = scaler.fit_transform(X_train)\n",
        "X_val = scaler.transform(X_val)"
      ]
    },
    {
      "cell_type": "code",
      "execution_count": 36,
      "id": "55aaf77b-cf2f-454a-aecd-40689adee87f",
      "metadata": {
        "tags": [],
        "id": "55aaf77b-cf2f-454a-aecd-40689adee87f",
        "outputId": "36013c2b-f1ae-41a2-a21d-380cf62a3894",
        "colab": {
          "base_uri": "https://localhost:8080/"
        }
      },
      "outputs": [
        {
          "output_type": "stream",
          "name": "stdout",
          "text": [
            "False\n"
          ]
        }
      ],
      "source": [
        "print(np.isnan(X_train).any())"
      ]
    },
    {
      "cell_type": "code",
      "execution_count": 37,
      "id": "cac2f43e-2000-41b6-83fa-d662e60855e3",
      "metadata": {
        "tags": [],
        "id": "cac2f43e-2000-41b6-83fa-d662e60855e3",
        "outputId": "c16f125f-7d57-4b34-cb04-006bb0411dfb",
        "colab": {
          "base_uri": "https://localhost:8080/"
        }
      },
      "outputs": [
        {
          "output_type": "stream",
          "name": "stdout",
          "text": [
            "False\n"
          ]
        }
      ],
      "source": [
        "print(np.isinf(X_train).any())"
      ]
    },
    {
      "cell_type": "markdown",
      "id": "2fcd7895-62af-45b9-bf83-9236a7bee7c2",
      "metadata": {
        "tags": [],
        "id": "2fcd7895-62af-45b9-bf83-9236a7bee7c2"
      },
      "source": [
        "# Bootstrap Aggregation #"
      ]
    },
    {
      "cell_type": "code",
      "execution_count": 38,
      "id": "eeab7ee3-a91d-43e6-ae50-ab9b37262f98",
      "metadata": {
        "tags": [],
        "id": "eeab7ee3-a91d-43e6-ae50-ab9b37262f98"
      },
      "outputs": [],
      "source": [
        "template = DecisionTreeClassifier(max_depth=5)"
      ]
    },
    {
      "cell_type": "code",
      "execution_count": 39,
      "id": "df532068-a4cc-4e6e-8066-7aa97560f6e1",
      "metadata": {
        "tags": [],
        "id": "df532068-a4cc-4e6e-8066-7aa97560f6e1"
      },
      "outputs": [],
      "source": [
        "classificationEnsemble = AdaBoostClassifier(estimator=template,\n",
        "                                             n_estimators=100,\n",
        "                                             learning_rate=0.1)"
      ]
    },
    {
      "cell_type": "code",
      "execution_count": null,
      "id": "477418b0-8f9e-4bd1-8532-b419d841a376",
      "metadata": {
        "tags": [],
        "id": "477418b0-8f9e-4bd1-8532-b419d841a376"
      },
      "outputs": [],
      "source": [
        "classificationEnsemble.fit(X_train, y_train)"
      ]
    },
    {
      "cell_type": "code",
      "execution_count": null,
      "id": "8692634f-d9f0-4b08-be79-7b94cbad2d6b",
      "metadata": {
        "tags": [],
        "id": "8692634f-d9f0-4b08-be79-7b94cbad2d6b"
      },
      "outputs": [],
      "source": [
        "y_pred = classificationEnsemble.predict(X_val)"
      ]
    },
    {
      "cell_type": "code",
      "execution_count": null,
      "id": "b9ae2cf2-97d5-4a31-87ea-00fd141407ca",
      "metadata": {
        "tags": [],
        "id": "b9ae2cf2-97d5-4a31-87ea-00fd141407ca"
      },
      "outputs": [],
      "source": [
        "Accuracy1 = accuracy_score(y_val, y_pred)"
      ]
    },
    {
      "cell_type": "code",
      "execution_count": null,
      "id": "515b336d-907e-4d10-b1a9-de398ffc15ee",
      "metadata": {
        "tags": [],
        "id": "515b336d-907e-4d10-b1a9-de398ffc15ee"
      },
      "outputs": [],
      "source": [
        "print(Accuracy1*100)"
      ]
    },
    {
      "cell_type": "code",
      "execution_count": null,
      "id": "adee37df-f119-42d2-a78a-e9b55b668b33",
      "metadata": {
        "tags": [],
        "id": "adee37df-f119-42d2-a78a-e9b55b668b33"
      },
      "outputs": [],
      "source": [
        "recall1 = recall_score(y_val, y_pred, pos_label=2)"
      ]
    },
    {
      "cell_type": "code",
      "execution_count": null,
      "id": "6fb8c8bc-7e92-4d95-b32e-59b0e836b515",
      "metadata": {
        "tags": [],
        "id": "6fb8c8bc-7e92-4d95-b32e-59b0e836b515"
      },
      "outputs": [],
      "source": [
        "precision1 = precision_score(y_val, y_pred, pos_label=2)"
      ]
    },
    {
      "cell_type": "code",
      "execution_count": null,
      "id": "2b516828-093f-43c4-a873-10a60f9cfa51",
      "metadata": {
        "id": "2b516828-093f-43c4-a873-10a60f9cfa51"
      },
      "outputs": [],
      "source": [
        "f11 = f1_score(y_val, y_pred, pos_label=2)"
      ]
    },
    {
      "cell_type": "code",
      "execution_count": null,
      "id": "84b72c97-fd5f-46f3-bbfe-6fa965c0dcfd",
      "metadata": {
        "id": "84b72c97-fd5f-46f3-bbfe-6fa965c0dcfd"
      },
      "outputs": [],
      "source": [
        "print('Recall:', recall1*100)\n",
        "print('Precision:', precision1*100)\n",
        "print('F1 Score:', f11*100)"
      ]
    },
    {
      "cell_type": "code",
      "execution_count": null,
      "id": "35e6bb95-d42e-4384-8926-82b0c4b31663",
      "metadata": {
        "tags": [],
        "id": "35e6bb95-d42e-4384-8926-82b0c4b31663"
      },
      "outputs": [],
      "source": [
        "labels = ['Accuracy', 'Recall', 'Precision', 'F1 score']\n",
        "scores = [Accuracy1,recall1, precision1,f11]\n",
        "sns.set(style='whitegrid')\n",
        "sns.set_color_codes('pastel')\n",
        "palette = sns.color_palette('Set1')\n",
        "\n",
        "fig, ax = plt.subplots(figsize=(8, 3))\n",
        "sns.barplot(x=scores, y=labels, palette=palette)\n",
        "\n",
        "for i, v in enumerate(scores):\n",
        "    ax.text(v+0.01, i, f'{v*100:.2f}%', color='black', fontweight='bold')\n",
        "\n",
        "ax.set_xlim(0, 1)\n",
        "ax.set_xlabel('Score')\n",
        "ax.set_ylabel('Metric')\n",
        "ax.set_title('Bootstrap Aggregation performance')\n",
        "\n",
        "plt.show()"
      ]
    },
    {
      "cell_type": "code",
      "execution_count": null,
      "id": "e9c1838c-6f16-42cc-866c-c9f96a7f0eb1",
      "metadata": {
        "tags": [],
        "id": "e9c1838c-6f16-42cc-866c-c9f96a7f0eb1"
      },
      "outputs": [],
      "source": [
        "cm = confusion_matrix(y_val, y_pred)"
      ]
    },
    {
      "cell_type": "code",
      "execution_count": null,
      "id": "f8fc924e-d4cb-43eb-9f9a-6e92744b067c",
      "metadata": {
        "tags": [],
        "id": "f8fc924e-d4cb-43eb-9f9a-6e92744b067c"
      },
      "outputs": [],
      "source": [
        "plt.figure(figsize=(8,6))\n",
        "sns.heatmap(cm, annot=True, cmap='Blues', fmt='g', \n",
        "            xticklabels=[1,2,3,4,5], yticklabels=[1,2,3,4,5])\n",
        "plt.xlabel('Predicted labels')\n",
        "plt.ylabel('True labels')\n",
        "plt.show()"
      ]
    },
    {
      "cell_type": "markdown",
      "id": "6f45de4e-e605-4364-9d36-f9b167135a8d",
      "metadata": {
        "id": "6f45de4e-e605-4364-9d36-f9b167135a8d"
      },
      "source": [
        "# Bagging #"
      ]
    },
    {
      "cell_type": "code",
      "execution_count": null,
      "id": "28d6138b-24dd-4e08-86e5-00e5dfef1bc6",
      "metadata": {
        "tags": [],
        "id": "28d6138b-24dd-4e08-86e5-00e5dfef1bc6"
      },
      "outputs": [],
      "source": [
        "rfc = RandomForestClassifier(n_estimators=100, max_depth=5)"
      ]
    },
    {
      "cell_type": "code",
      "execution_count": null,
      "id": "837607eb-7a74-49d7-b9cf-4c3470d8e9d0",
      "metadata": {
        "tags": [],
        "id": "837607eb-7a74-49d7-b9cf-4c3470d8e9d0"
      },
      "outputs": [],
      "source": [
        "bagging = BaggingClassifier(estimator=rfc, n_estimators=100, max_samples=0.8, max_features=0.8)"
      ]
    },
    {
      "cell_type": "code",
      "execution_count": null,
      "id": "e836d14a-0ee0-4e72-8884-36861a54335b",
      "metadata": {
        "tags": [],
        "id": "e836d14a-0ee0-4e72-8884-36861a54335b"
      },
      "outputs": [],
      "source": [
        "bagging.fit(X_train, y_train)"
      ]
    },
    {
      "cell_type": "code",
      "execution_count": null,
      "id": "3671de63-175c-4a0b-b551-29ff7fbba184",
      "metadata": {
        "tags": [],
        "id": "3671de63-175c-4a0b-b551-29ff7fbba184"
      },
      "outputs": [],
      "source": [
        "y_pred2 =bagging.predict(X_val)"
      ]
    },
    {
      "cell_type": "code",
      "execution_count": null,
      "id": "7b4c5774-5ce4-4429-b21f-a305bff75222",
      "metadata": {
        "tags": [],
        "id": "7b4c5774-5ce4-4429-b21f-a305bff75222"
      },
      "outputs": [],
      "source": [
        "Accuracy2 = accuracy_score(y_val, y_pred2)"
      ]
    },
    {
      "cell_type": "code",
      "execution_count": null,
      "id": "0c260d9d-1401-4dc9-915f-b5940c6db699",
      "metadata": {
        "tags": [],
        "id": "0c260d9d-1401-4dc9-915f-b5940c6db699"
      },
      "outputs": [],
      "source": [
        "print(Accuracy2*100)"
      ]
    },
    {
      "cell_type": "code",
      "execution_count": null,
      "id": "18965894-91ae-41dc-93a1-e743d60e957a",
      "metadata": {
        "tags": [],
        "id": "18965894-91ae-41dc-93a1-e743d60e957a"
      },
      "outputs": [],
      "source": [
        "cm2 = confusion_matrix(y_val, y_pred2)"
      ]
    },
    {
      "cell_type": "code",
      "execution_count": null,
      "id": "9fd050d9-4b49-441a-9233-a46eff1b0b2c",
      "metadata": {
        "tags": [],
        "id": "9fd050d9-4b49-441a-9233-a46eff1b0b2c"
      },
      "outputs": [],
      "source": [
        "plt.figure(figsize=(8,6))\n",
        "sns.heatmap(cm2, annot=True, cmap='Blues', fmt='g', \n",
        "            xticklabels=[1,2,3,4,5], yticklabels=[1,2,3,4,5])\n",
        "plt.xlabel('Predicted labels')\n",
        "plt.ylabel('True labels')\n",
        "plt.show()"
      ]
    },
    {
      "cell_type": "code",
      "execution_count": null,
      "id": "b79dccc5-43c5-4250-95dc-14e8a57438d9",
      "metadata": {
        "id": "b79dccc5-43c5-4250-95dc-14e8a57438d9"
      },
      "outputs": [],
      "source": [
        "recall2 = recall_score(y_val, y_pred2, pos_label='DDoS')\n",
        "precision2 = precision_score(y_val, y_pred2, pos_label='DDoS')\n",
        "f12 = f1_score(y_val, y_pred2, pos_label='DDoS')"
      ]
    },
    {
      "cell_type": "code",
      "execution_count": null,
      "id": "9b3220a3-cdd7-400d-9103-176e0349b614",
      "metadata": {
        "id": "9b3220a3-cdd7-400d-9103-176e0349b614"
      },
      "outputs": [],
      "source": [
        "print('Recall:', recall2)\n",
        "print('Precision:', precision2)\n",
        "print('F1 Score:', f12)"
      ]
    },
    {
      "cell_type": "code",
      "execution_count": null,
      "id": "9f388b6c-822d-4f5c-83cd-487a72a0a8a1",
      "metadata": {
        "id": "9f388b6c-822d-4f5c-83cd-487a72a0a8a1"
      },
      "outputs": [],
      "source": [
        "labels = ['Accuracy', 'Recall', 'Precision', 'F1 score']\n",
        "scores = [Accuracy2,recall2, precision2,f12]\n",
        "sns.set(style='whitegrid')\n",
        "sns.set_color_codes('pastel')\n",
        "palette = sns.color_palette('Set1')\n",
        "\n",
        "fig, ax = plt.subplots(figsize=(8, 3))\n",
        "sns.barplot(x=scores, y=labels, palette=palette)\n",
        "\n",
        "for i, v in enumerate(scores):\n",
        "    ax.text(v+0.01, i, f'{v*100:.2f}%', color='black', fontweight='bold')\n",
        "\n",
        "ax.set_xlim(0, 1)\n",
        "ax.set_xlabel('Score')\n",
        "ax.set_ylabel('Metric')\n",
        "ax.set_title('Bagging Trees performance')\n",
        "\n",
        "plt.show()"
      ]
    }
  ],
  "metadata": {
    "kernelspec": {
      "display_name": "Python 3 (ipykernel)",
      "language": "python",
      "name": "python3"
    },
    "language_info": {
      "codemirror_mode": {
        "name": "ipython",
        "version": 3
      },
      "file_extension": ".py",
      "mimetype": "text/x-python",
      "name": "python",
      "nbconvert_exporter": "python",
      "pygments_lexer": "ipython3",
      "version": "3.10.6"
    },
    "colab": {
      "provenance": [],
      "gpuType": "T4",
      "include_colab_link": true
    },
    "gpuClass": "standard"
  },
  "nbformat": 4,
  "nbformat_minor": 5
}